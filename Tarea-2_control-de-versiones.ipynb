{
 "cells": [
  {
   "cell_type": "markdown",
   "id": "dd5b1255",
   "metadata": {},
   "source": [
    "# Tarea 2: Control de versiones\n"
   ]
  },
  {
   "cell_type": "code",
   "execution_count": null,
   "id": "85f73734",
   "metadata": {},
   "outputs": [],
   "source": []
  }
 ],
 "metadata": {
  "kernelspec": {
   "display_name": "Python 3 (ipykernel)",
   "language": "python",
   "name": "python3"
  },
  "language_info": {
   "codemirror_mode": {
    "name": "ipython",
    "version": 3
   },
   "file_extension": ".py",
   "mimetype": "text/x-python",
   "name": "python",
   "nbconvert_exporter": "python",
   "pygments_lexer": "ipython3",
   "version": "3.10.0"
  }
 },
 "nbformat": 4,
 "nbformat_minor": 5
}
